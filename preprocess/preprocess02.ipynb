{
  "nbformat": 4,
  "nbformat_minor": 0,
  "metadata": {
    "colab": {
      "provenance": []
    },
    "kernelspec": {
      "name": "python3",
      "display_name": "Python 3"
    },
    "language_info": {
      "name": "python"
    }
  },
  "cells": [
    {
      "cell_type": "markdown",
      "source": [
        "### mecab + neologdn\n",
        "\n",
        "preprocess/mecab_neologd/text.prep_' + name + '.txt'に顔文字あり"
      ],
      "metadata": {
        "id": "IlaWMrpCUFCv"
      }
    },
    {
      "cell_type": "code",
      "source": [
        "from google.colab import drive\n",
        "drive.mount('/content/drive')"
      ],
      "metadata": {
        "colab": {
          "base_uri": "https://localhost:8080/"
        },
        "id": "aD4CWrcSUnGn",
        "outputId": "b71d29fc-524f-49ff-93ee-7de493e74ce4"
      },
      "execution_count": 1,
      "outputs": [
        {
          "output_type": "stream",
          "name": "stdout",
          "text": [
            "Mounted at /content/drive\n"
          ]
        }
      ]
    },
    {
      "cell_type": "code",
      "source": [
        "! pip install neologdn"
      ],
      "metadata": {
        "colab": {
          "base_uri": "https://localhost:8080/"
        },
        "id": "Xzmn-6sbVP2w",
        "outputId": "e98a28c8-56b0-4bea-974c-0f01772965f5"
      },
      "execution_count": 2,
      "outputs": [
        {
          "output_type": "stream",
          "name": "stdout",
          "text": [
            "Looking in indexes: https://pypi.org/simple, https://us-python.pkg.dev/colab-wheels/public/simple/\n",
            "Collecting neologdn\n",
            "  Downloading neologdn-0.5.1.tar.gz (57 kB)\n",
            "\u001b[K     |████████████████████████████████| 57 kB 4.3 MB/s \n",
            "\u001b[?25hBuilding wheels for collected packages: neologdn\n",
            "  Building wheel for neologdn (setup.py) ... \u001b[?25l\u001b[?25hdone\n",
            "  Created wheel for neologdn: filename=neologdn-0.5.1-cp38-cp38-linux_x86_64.whl size=178320 sha256=dafd3cefaa00da0f62273ffd371c6292fefbd44faf2dd6d37cf00ad014bc64be\n",
            "  Stored in directory: /root/.cache/pip/wheels/3e/db/10/b3b26caa63c5da86ea3a25043cc4379a66bb3dd30d6f060a37\n",
            "Successfully built neologdn\n",
            "Installing collected packages: neologdn\n",
            "Successfully installed neologdn-0.5.1\n"
          ]
        }
      ]
    },
    {
      "cell_type": "code",
      "source": [
        "# 形態素分析ライブラリーMeCab と 辞書(mecab-ipadic-NEologd)のインストール \n",
        "!apt-get -q -y install sudo file mecab libmecab-dev mecab-ipadic-utf8 git curl python-mecab > /dev/null\n",
        "!git clone --depth 1 https://github.com/neologd/mecab-ipadic-neologd.git > /dev/null \n",
        "!echo yes | mecab-ipadic-neologd/bin/install-mecab-ipadic-neologd -n > /dev/null 2>&1\n",
        "!pip install mecab-python3 > /dev/null\n",
        "\n",
        "# シンボリックリンクによるエラー回避\n",
        "!ln -s /etc/mecabrc /usr/local/etc/mecabrc"
      ],
      "metadata": {
        "colab": {
          "base_uri": "https://localhost:8080/"
        },
        "id": "Aj0JvPyzUlLp",
        "outputId": "13abee83-8d78-4039-a078-1f6df28b486f"
      },
      "execution_count": null,
      "outputs": [
        {
          "output_type": "stream",
          "name": "stdout",
          "text": [
            "Cloning into 'mecab-ipadic-neologd'...\n",
            "remote: Enumerating objects: 75, done.\u001b[K\n",
            "remote: Counting objects: 100% (75/75), done.\u001b[K\n",
            "remote: Compressing objects: 100% (74/74), done.\u001b[K\n",
            "remote: Total 75 (delta 5), reused 54 (delta 0), pack-reused 0\u001b[K\n",
            "Unpacking objects: 100% (75/75), done.\n"
          ]
        }
      ]
    },
    {
      "cell_type": "code",
      "execution_count": 10,
      "metadata": {
        "id": "f9pVTfCaT_oY"
      },
      "outputs": [],
      "source": [
        "import neologdn\n",
        "import unicodedata\n",
        "import MeCab\n",
        "import re\n",
        "\n",
        "# neologdn + (小文字化) + 数字の置換\n",
        "def normalize_number(text):\n",
        "    \"\"\"\n",
        "    pattern = r'\\d+'\n",
        "    replacer = re.compile(pattern)\n",
        "    result = replacer.sub('0', text)\n",
        "    \"\"\"\n",
        "    # 連続した数字を0で置換\n",
        "    replaced_text = re.sub(r'\\d+', '0', text)\n",
        "    return replaced_text"
      ]
    },
    {
      "cell_type": "code",
      "source": [
        "m = MeCab.Tagger()\n",
        "sample_txt = \"彼女はペンパイナッポーアッポーペンと恋ダンスを踊った。\"\n",
        "print(\"Mecab:\\n\", m.parse(sample_txt))\n",
        "# path 指定\n",
        "path = \"-d /usr/lib/x86_64-linux-gnu/mecab/dic/mecab-ipadic-neologd\"\n",
        "m = MeCab.Tagger(path)\n",
        "print(\"Mecab ipadic NEologd:\\n\",m.parse(sample_txt))"
      ],
      "metadata": {
        "colab": {
          "base_uri": "https://localhost:8080/"
        },
        "id": "xfIoiHYWUa8X",
        "outputId": "58b49831-ea92-4ac7-9c13-2f5e4130c662"
      },
      "execution_count": null,
      "outputs": [
        {
          "output_type": "stream",
          "name": "stdout",
          "text": [
            "Mecab:\n",
            " 彼女\t名詞,代名詞,一般,*,*,*,彼女,カノジョ,カノジョ\n",
            "は\t助詞,係助詞,*,*,*,*,は,ハ,ワ\n",
            "ペンパイナッポーアッポーペン\t名詞,一般,*,*,*,*,*\n",
            "と\t助詞,並立助詞,*,*,*,*,と,ト,ト\n",
            "恋\t名詞,一般,*,*,*,*,恋,コイ,コイ\n",
            "ダンス\t名詞,サ変接続,*,*,*,*,ダンス,ダンス,ダンス\n",
            "を\t助詞,格助詞,一般,*,*,*,を,ヲ,ヲ\n",
            "踊っ\t動詞,自立,*,*,五段・ラ行,連用タ接続,踊る,オドッ,オドッ\n",
            "た\t助動詞,*,*,*,特殊・タ,基本形,た,タ,タ\n",
            "。\t記号,句点,*,*,*,*,。,。,。\n",
            "EOS\n",
            "\n",
            "Mecab ipadic NEologd:\n",
            " 彼女\t名詞,代名詞,一般,*,*,*,彼女,カノジョ,カノジョ\n",
            "は\t助詞,係助詞,*,*,*,*,は,ハ,ワ\n",
            "ペンパイナッポーアッポーペン\t名詞,固有名詞,一般,*,*,*,Pen-Pineapple-Apple-Pen,ペンパイナッポーアッポーペン,ペンパイナッポーアッポーペン\n",
            "と\t助詞,並立助詞,*,*,*,*,と,ト,ト\n",
            "恋ダンス\t名詞,固有名詞,一般,*,*,*,恋ダンス,コイダンス,コイダンス\n",
            "を\t助詞,格助詞,一般,*,*,*,を,ヲ,ヲ\n",
            "踊っ\t動詞,自立,*,*,五段・ラ行,連用タ接続,踊る,オドッ,オドッ\n",
            "た\t助動詞,*,*,*,特殊・タ,基本形,た,タ,タ\n",
            "。\t記号,句点,*,*,*,*,。,。,。\n",
            "EOS\n",
            "\n"
          ]
        }
      ]
    },
    {
      "cell_type": "code",
      "source": [
        "%cd '/content/drive/MyDrive/grad_comp'"
      ],
      "metadata": {
        "colab": {
          "base_uri": "https://localhost:8080/"
        },
        "id": "P2XmS2XIWC9v",
        "outputId": "6d58dab3-f3b6-4eec-e28d-c394a21eec2c"
      },
      "execution_count": 7,
      "outputs": [
        {
          "output_type": "stream",
          "name": "stdout",
          "text": [
            "/content/drive/MyDrive/grad_comp\n"
          ]
        }
      ]
    },
    {
      "cell_type": "code",
      "source": [
        "# neologdn + (小文字化) + 数字の置換\n",
        "def normalize_number(text):\n",
        "    \"\"\"\n",
        "    pattern = r'\\d+'\n",
        "    replacer = re.compile(pattern)\n",
        "    result = replacer.sub('0', text)\n",
        "    \"\"\"\n",
        "    # 連続した数字を0で置換\n",
        "    replaced_text = re.sub(r'\\d+', '0', text)\n",
        "    return replaced_text\n",
        "\n",
        "filename = ['train','dev','test']\n",
        "\n",
        "for name in filename:\n",
        "  with open('data/text.' + name + '.txt') as fr,open('preprocess/text.prep_' + name + '.txt',mode='w') as fw:\n",
        "    for line in fr:\n",
        "      line = neologdn.normalize(line)\n",
        "      line = normalize_number(line)\n",
        "      fw.write(line)"
      ],
      "metadata": {
        "id": "PpF50Z_hVDNe"
      },
      "execution_count": null,
      "outputs": []
    },
    {
      "cell_type": "code",
      "source": [
        "# src にmecab後のテキストを入れる\n",
        "filename = ['train','dev','test']\n",
        "# neologd 対応\n",
        "path = \"-d /usr/lib/x86_64-linux-gnu/mecab/dic/mecab-ipadic-neologd\"\n",
        "wakati = MeCab.Tagger(f'-Owakati {path}')\n",
        "for name in filename:\n",
        "  with open('preprocess/text.prep_' + name + '.txt') as fr,open('preprocess/mecab_neologd/text.prep_' + name + '.txt','w') as fw:\n",
        "    for line in fr:\n",
        "      line = wakati.parse(line).strip()\n",
        "      fw.write(line + '\\n')"
      ],
      "metadata": {
        "id": "QEosw4ymWBqd"
      },
      "execution_count": null,
      "outputs": []
    },
    {
      "cell_type": "code",
      "source": [
        "path = \"-d /usr/lib/x86_64-linux-gnu/mecab/dic/mecab-ipadic-neologd\"\n",
        "wakati = MeCab.Tagger(f'-Owakati {path}')\n",
        "t = '私の名前は安倍晋三です。'\n",
        "print(wakati.parse(t).strip())"
      ],
      "metadata": {
        "colab": {
          "base_uri": "https://localhost:8080/"
        },
        "id": "BBh9WKxnYwwX",
        "outputId": "dcac142c-56e5-4433-93fb-f88711e76fe5"
      },
      "execution_count": null,
      "outputs": [
        {
          "output_type": "stream",
          "name": "stdout",
          "text": [
            "私 の 名前 は 安倍晋三 です 。\n"
          ]
        }
      ]
    },
    {
      "cell_type": "code",
      "source": [
        "# src にmecab後のテキストを入れる\n",
        "filename = ['train','dev','test']\n",
        "wakati = MeCab.Tagger('-Owakati')\n",
        "for name in filename:\n",
        "  with open('preprocess/text.prep_' + name + '.txt') as fr,open('preprocess/mecab/text.prep_' + name + '.txt','w') as fw:\n",
        "    for line in fr:\n",
        "      line = wakati.parse(line).strip()\n",
        "      fw.write(line + '\\n')"
      ],
      "metadata": {
        "id": "NC3Pn3hrY7ip"
      },
      "execution_count": null,
      "outputs": []
    },
    {
      "cell_type": "code",
      "source": [],
      "metadata": {
        "id": "NiyBJV49cOhE"
      },
      "execution_count": null,
      "outputs": []
    },
    {
      "cell_type": "markdown",
      "source": [
        "## sudachi"
      ],
      "metadata": {
        "id": "v4FLRQdbhj4N"
      }
    },
    {
      "cell_type": "code",
      "source": [
        "# インストール\n",
        "\n",
        "! pip install sudachipy\n",
        "! pip install sudachidict_core\n"
      ],
      "metadata": {
        "colab": {
          "base_uri": "https://localhost:8080/"
        },
        "id": "a46RlFk0hkwE",
        "outputId": "aaa1ec0d-f991-4a9f-ce34-dc685423fd1a"
      },
      "execution_count": 5,
      "outputs": [
        {
          "output_type": "stream",
          "name": "stdout",
          "text": [
            "Looking in indexes: https://pypi.org/simple, https://us-python.pkg.dev/colab-wheels/public/simple/\n",
            "Collecting sudachipy\n",
            "  Downloading SudachiPy-0.6.6-cp38-cp38-manylinux_2_5_x86_64.manylinux1_x86_64.manylinux_2_12_x86_64.manylinux2010_x86_64.whl (2.2 MB)\n",
            "\u001b[K     |████████████████████████████████| 2.2 MB 20.7 MB/s \n",
            "\u001b[?25hInstalling collected packages: sudachipy\n",
            "Successfully installed sudachipy-0.6.6\n",
            "Looking in indexes: https://pypi.org/simple, https://us-python.pkg.dev/colab-wheels/public/simple/\n",
            "Collecting sudachidict_core\n",
            "  Downloading SudachiDict-core-20221021.tar.gz (9.0 kB)\n",
            "Requirement already satisfied: SudachiPy<0.7,>=0.5 in /usr/local/lib/python3.8/dist-packages (from sudachidict_core) (0.6.6)\n",
            "Building wheels for collected packages: sudachidict-core\n",
            "  Building wheel for sudachidict-core (setup.py) ... \u001b[?25l\u001b[?25hdone\n",
            "  Created wheel for sudachidict-core: filename=SudachiDict_core-20221021-py3-none-any.whl size=71574782 sha256=3c7d2a66f5677a1cfb3f4c40045b7f1d34ed36045d409faa6d1617a563e3d7ce\n",
            "  Stored in directory: /root/.cache/pip/wheels/ca/e3/ed/e78fecf6fd34349114d292242a16fc08d513fb32c2d9c5d786\n",
            "Successfully built sudachidict-core\n",
            "Installing collected packages: sudachidict-core\n",
            "Successfully installed sudachidict-core-20221021\n"
          ]
        }
      ]
    },
    {
      "cell_type": "code",
      "source": [
        "# neologdn + number_normalize + sudachi_normalized\n",
        "from sudachipy import Dictionary\n",
        "from sudachipy import SplitMode\n",
        "\n",
        "tokenizer = Dictionary().create()\n",
        "\n",
        "SM = SplitMode.A\n",
        "filename = ['train','dev','test']\n",
        "\n",
        "for name in filename:\n",
        "  # 分かち書き + 正規化 したのを上書き\n",
        "    with open('data/text.' + name + '.txt') as fr,open('preprocess/sudachi-neo/A/text.prep_' + name + '.txt','w') as fw:\n",
        "        for line in fr:\n",
        "            line = neologdn.normalize(line)\n",
        "            line = normalize_number(line)\n",
        "            token_list = list()\n",
        "            for token in tokenizer.tokenize(line.strip(), SM):\n",
        "                # 正規化\n",
        "                token_list.append(token.normalized_form())\n",
        "            fw.write(' '.join(token_list) + '\\n')"
      ],
      "metadata": {
        "id": "N3bZUOwPh6A0"
      },
      "execution_count": 15,
      "outputs": []
    },
    {
      "cell_type": "code",
      "source": [],
      "metadata": {
        "id": "fiecPR1RjmNH"
      },
      "execution_count": null,
      "outputs": []
    }
  ]
}