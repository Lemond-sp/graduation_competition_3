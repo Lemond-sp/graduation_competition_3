{
  "cells": [
    {
      "attachments": {},
      "cell_type": "markdown",
      "metadata": {
        "id": "zR-twBCNdf25"
      },
      "source": [
        "nagisaによる顔文字除去後のテキストに対してjuman++を行う"
      ]
    },
    {
      "cell_type": "code",
      "execution_count": null,
      "metadata": {
        "colab": {
          "base_uri": "https://localhost:8080/"
        },
        "id": "AT8uznxSwOrS",
        "outputId": "6843d190-bb5d-4459-c8b2-3113b648c176"
      },
      "outputs": [],
      "source": [
        "from google.colab import drive\n",
        "drive.mount('/content/drive')\n",
        "%cd '/content/drive/MyDrive/grad_comp/data'"
      ]
    },
    {
      "cell_type": "code",
      "execution_count": null,
      "metadata": {
        "colab": {
          "base_uri": "https://localhost:8080/"
        },
        "id": "nIFGeu6C0nqD",
        "outputId": "3fe6b2af-cebe-4d8c-f248-c7cd6f6aa43e"
      },
      "outputs": [],
      "source": [
        "! pip install pyknp\n",
        "! wget https://github.com/ku-nlp/jumanpp/releases/download/v2.0.0-rc3/jumanpp-2.0.0-rc3.tar.xz && \\\n",
        "tar xJvf jumanpp-2.0.0-rc3.tar.xz && \\\n",
        "rm jumanpp-2.0.0-rc3.tar.xz && \\\n",
        "cd jumanpp-2.0.0-rc3/ && \\\n",
        "mkdir bld && \\\n",
        "cd bld && \\\n",
        "cmake .. \\\n",
        "  -DCMAKE_BUILD_TYPE=Release \\\n",
        "  -DCMAKE_INSTALL_PREFIX=/usr/local && \\\n",
        "make && \\\n",
        "sudo make install"
      ]
    },
    {
      "cell_type": "code",
      "execution_count": 10,
      "metadata": {
        "id": "zLMfJfsxjBuo"
      },
      "outputs": [],
      "source": [
        "import re\n",
        "from pyknp import Juman\n",
        "jumanpp = Juman()\n",
        "\n",
        "# ファイル処理\n",
        "filename = ['train','dev','test']\n",
        "\n",
        "for name in filename:\n",
        "  with open('../preprocess/text.nagisa_' + name + '.txt') as fr,open('../preprocess/text.jumanpp_' + name + '.txt',mode='w') as fw:\n",
        "    for line in fr:\n",
        "      res = jumanpp.analysis(line.strip())\n",
        "      re_line = \" \".join([token.midasi for token in res.mrph_list()])\n",
        "      fw.write(re_line + '\\n')"
      ]
    }
  ],
  "metadata": {
    "accelerator": "GPU",
    "colab": {
      "machine_shape": "hm",
      "provenance": []
    },
    "gpuClass": "premium",
    "kernelspec": {
      "display_name": "Python 3",
      "name": "python3"
    },
    "language_info": {
      "name": "python"
    }
  },
  "nbformat": 4,
  "nbformat_minor": 0
}
