{
  "cells": [
    {
      "cell_type": "code",
      "execution_count": null,
      "metadata": {
        "id": "5jFR5EVNWbd_"
      },
      "outputs": [],
      "source": [
        "!pip install nagisa emoji"
      ]
    },
    {
      "cell_type": "code",
      "execution_count": null,
      "metadata": {
        "colab": {
          "base_uri": "https://localhost:8080/"
        },
        "id": "gPWQ1XQuXcWK",
        "outputId": "50f0db75-c54c-4458-a98d-14fd689fb87b"
      },
      "outputs": [
        {
          "name": "stdout",
          "output_type": "stream",
          "text": [
            "/content/drive/MyDrive/grad_comp/data\n"
          ]
        }
      ],
      "source": [
        "%cd '/content/drive/MyDrive/grad_comp/data'"
      ]
    },
    {
      "cell_type": "code",
      "execution_count": null,
      "metadata": {
        "colab": {
          "base_uri": "https://localhost:8080/"
        },
        "id": "EdaqLT3vWU5A",
        "outputId": "ee190aac-1e14-485a-ef2d-04f28d068141"
      },
      "outputs": [],
      "source": [
        "import nagisa\n",
        "import unicodedata\n",
        "import re\n",
        "\n",
        "KAOMOJI_LEN = 5\n",
        "\n",
        "def extract_kaomoji(text):\n",
        "    \"\"\" 与えられたテキストから抽出した顔文字リストを返却する。\n",
        "        → ＼(^o^)／, m(_ _)m などの 手を含む顔文字があれば、それも抽出する\n",
        "    \"\"\"\n",
        "    results = nagisa.extract(text, extract_postags=['補助記号'])\n",
        "    words = results.words\n",
        "    kaomoji_words = []\n",
        "    kaomoji_idx = [i for i, w in enumerate(words) if len(w) >= KAOMOJI_LEN]\n",
        "    kaomoji_hands = ['ノ', 'ヽ', '∑', 'm', 'O', 'o', '┐', '/', '\\\\', '┌'] \n",
        "    # 顔文字と手を検索\n",
        "    for i in kaomoji_idx:\n",
        "        kaomoji = words[i] # 顔文字列\n",
        "        try:\n",
        "            # 顔文字の左手\n",
        "            if words[i-1] in kaomoji_hands and 0 < i:\n",
        "                kaomoji = words[i-1] + kaomoji\n",
        "            # 顔文字の右手\n",
        "            if words[i+1] in kaomoji_hands:\n",
        "                 kaomoji = kaomoji + words[i+1]\n",
        "        except IndexError:\n",
        "            pass\n",
        "        finally:\n",
        "            kaomoji_words.append(kaomoji)\n",
        "    return kaomoji_words\n",
        "\n",
        "def delete(text, target_list):\n",
        "    for trg in target_list:\n",
        "        text = text.replace(trg, \"\")\n",
        "    return text\n",
        "\n",
        "# 顔文字除去したテキストを返す関数\n",
        "def remove_kaomoji(text):\n",
        "  res = nagisa.extract(text, extract_postags=['補助記号'])\n",
        "  kaomoji = res.words # 顔文字リスト\n",
        "  kaomoji = [t for t in kaomoji if t not in ['、','。','...','?', '?', '!', '!']] # 対象外\n",
        "  words = nagisa.tagging(text)\n",
        "  tokens = words.words\n",
        "  remove_list = [t for t in tokens if t not in kaomoji]\n",
        "  remove_text = ''.join(remove_list)\n",
        "  return remove_text\n",
        "\n",
        "text = \"今日は渋谷スクランブルスクエアに行ってきた＼(^o^)／ 夜景🏙サイコー❗️ https://hogehogehogehoge.jpg\"\n",
        "text = unicodedata.normalize('NFKC', text) # NFKC正規化\n",
        "print(extract_kaomoji(text))\n",
        "# => ['\\\\(^o^)/']"
      ]
    },
    {
      "cell_type": "code",
      "execution_count": null,
      "metadata": {
        "colab": {
          "base_uri": "https://localhost:8080/",
          "height": 37
        },
        "id": "bKyX_AFjls-N",
        "outputId": "1b29312c-986b-420b-9ae7-5f59ab029bce"
      },
      "outputs": [
        {
          "data": {
            "application/vnd.google.colaboratory.intrinsic+json": {
              "type": "string"
            },
            "text/plain": [
              "'肉まん、サーモンロール、茶碗蒸?し?、納!豆、シナモンロール!暇やからって食べ過ぎた...'"
            ]
          },
          "execution_count": 56,
          "metadata": {},
          "output_type": "execute_result"
        }
      ],
      "source": [
        "# exp\n",
        "text = '肉まん、サーモンロール、茶碗蒸？し?、納!豆、シナモンロール！暇やからって食べ過ぎた…(●´з｀●)'\n",
        "text = unicodedata.normalize('NFKC', text)\n",
        "res = nagisa.extract(text, extract_postags=['補助記号'])\n",
        "kaomoji = res.words # 顔文字リスト\n",
        "words = nagisa.tagging(text)\n",
        "tokens = words.words\n",
        "kaomoji = [t for t in kaomoji if t not in ['、','。','...','?', '?', '!', '!']]\n",
        "remove_list = [t for t in tokens if t not in kaomoji]\n",
        "remove_text = ''.join(remove_list)\n",
        "remove_text"
      ]
    },
    {
      "cell_type": "code",
      "execution_count": null,
      "metadata": {
        "id": "l964szM6ij9T"
      },
      "outputs": [],
      "source": [
        "# ファイル処理\n",
        "filename = ['train','dev','test']\n",
        "\n",
        "for name in filename:\n",
        "  with open('text.' + name + '.txt') as fr,open('../preprocess/text.nagisa_' + name + '.txt',mode='w') as fw:\n",
        "    for line in fr:\n",
        "      line = re.sub(r'\\s+', '', line) # 空白削除\n",
        "      line = unicodedata.normalize('NFKC', line) # NFKC正規化\n",
        "      re_line = remove_kaomoji(line) # 顔文字抽出\n",
        "      fw.write(re_line + '\\n')"
      ]
    }
  ],
  "metadata": {
    "colab": {
      "collapsed_sections": [
        "TX0oJWi2iumk"
      ],
      "provenance": []
    },
    "kernelspec": {
      "display_name": "Python 3",
      "name": "python3"
    },
    "language_info": {
      "name": "python"
    }
  },
  "nbformat": 4,
  "nbformat_minor": 0
}
