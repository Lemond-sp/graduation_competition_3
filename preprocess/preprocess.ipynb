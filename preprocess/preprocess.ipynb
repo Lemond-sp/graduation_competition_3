{
  "cells": [
    {
      "cell_type": "markdown",
      "metadata": {
        "id": "IlaWMrpCUFCv"
      },
      "source": [
        "### mecab + neologdn"
      ]
    },
    {
      "cell_type": "code",
      "execution_count": 3,
      "metadata": {
        "colab": {
          "base_uri": "https://localhost:8080/"
        },
        "id": "aD4CWrcSUnGn",
        "outputId": "7298d573-4f02-4a3c-bb5c-e8af040065af"
      },
      "outputs": [
        {
          "name": "stdout",
          "output_type": "stream",
          "text": [
            "Mounted at /content/drive\n"
          ]
        }
      ],
      "source": [
        "from google.colab import drive\n",
        "drive.mount('/content/drive')"
      ]
    },
    {
      "cell_type": "code",
      "execution_count": 7,
      "metadata": {
        "colab": {
          "base_uri": "https://localhost:8080/"
        },
        "id": "Xzmn-6sbVP2w",
        "outputId": "4ca5e942-cfce-4e0c-e8f8-8592fafa7815"
      },
      "outputs": [
        {
          "name": "stdout",
          "output_type": "stream",
          "text": [
            "Looking in indexes: https://pypi.org/simple, https://us-python.pkg.dev/colab-wheels/public/simple/\n",
            "Collecting neologdn\n",
            "  Downloading neologdn-0.5.1.tar.gz (57 kB)\n",
            "\u001b[K     |████████████████████████████████| 57 kB 3.4 MB/s \n",
            "\u001b[?25hBuilding wheels for collected packages: neologdn\n",
            "  Building wheel for neologdn (setup.py) ... \u001b[?25l\u001b[?25hdone\n",
            "  Created wheel for neologdn: filename=neologdn-0.5.1-cp38-cp38-linux_x86_64.whl size=178317 sha256=675a407eb2a7c7fef0c89d422d14834e7e0a9077321a2bcc58c388b80d258cb8\n",
            "  Stored in directory: /root/.cache/pip/wheels/3e/db/10/b3b26caa63c5da86ea3a25043cc4379a66bb3dd30d6f060a37\n",
            "Successfully built neologdn\n",
            "Installing collected packages: neologdn\n",
            "Successfully installed neologdn-0.5.1\n"
          ]
        }
      ],
      "source": [
        "! pip install neologdn"
      ]
    },
    {
      "cell_type": "code",
      "execution_count": 4,
      "metadata": {
        "colab": {
          "base_uri": "https://localhost:8080/"
        },
        "id": "Aj0JvPyzUlLp",
        "outputId": "9a56ce29-bcc2-404a-a49a-6613fd37929e"
      },
      "outputs": [
        {
          "name": "stdout",
          "output_type": "stream",
          "text": [
            "Cloning into 'mecab-ipadic-neologd'...\n",
            "remote: Enumerating objects: 75, done.\u001b[K\n",
            "remote: Counting objects: 100% (75/75), done.\u001b[K\n",
            "remote: Compressing objects: 100% (74/74), done.\u001b[K\n",
            "remote: Total 75 (delta 5), reused 54 (delta 0), pack-reused 0\u001b[K\n",
            "Unpacking objects: 100% (75/75), done.\n"
          ]
        }
      ],
      "source": [
        "# 形態素分析ライブラリーMeCab と 辞書(mecab-ipadic-NEologd)のインストール \n",
        "!apt-get -q -y install sudo file mecab libmecab-dev mecab-ipadic-utf8 git curl python-mecab > /dev/null\n",
        "!git clone --depth 1 https://github.com/neologd/mecab-ipadic-neologd.git > /dev/null \n",
        "!echo yes | mecab-ipadic-neologd/bin/install-mecab-ipadic-neologd -n > /dev/null 2>&1\n",
        "!pip install mecab-python3 > /dev/null\n",
        "\n",
        "# シンボリックリンクによるエラー回避\n",
        "!ln -s /etc/mecabrc /usr/local/etc/mecabrc"
      ]
    },
    {
      "cell_type": "code",
      "execution_count": 15,
      "metadata": {
        "id": "f9pVTfCaT_oY"
      },
      "outputs": [],
      "source": [
        "import neologdn\n",
        "import unicodedata\n",
        "import MeCab\n",
        "import re"
      ]
    },
    {
      "cell_type": "code",
      "execution_count": 9,
      "metadata": {
        "colab": {
          "base_uri": "https://localhost:8080/"
        },
        "id": "xfIoiHYWUa8X",
        "outputId": "692f0e16-6f88-4496-8799-e2be4c08b87c"
      },
      "outputs": [
        {
          "name": "stdout",
          "output_type": "stream",
          "text": [
            "Mecab:\n",
            " 彼女\t名詞,代名詞,一般,*,*,*,彼女,カノジョ,カノジョ\n",
            "は\t助詞,係助詞,*,*,*,*,は,ハ,ワ\n",
            "ペンパイナッポーアッポーペン\t名詞,一般,*,*,*,*,*\n",
            "と\t助詞,並立助詞,*,*,*,*,と,ト,ト\n",
            "恋\t名詞,一般,*,*,*,*,恋,コイ,コイ\n",
            "ダンス\t名詞,サ変接続,*,*,*,*,ダンス,ダンス,ダンス\n",
            "を\t助詞,格助詞,一般,*,*,*,を,ヲ,ヲ\n",
            "踊っ\t動詞,自立,*,*,五段・ラ行,連用タ接続,踊る,オドッ,オドッ\n",
            "た\t助動詞,*,*,*,特殊・タ,基本形,た,タ,タ\n",
            "。\t記号,句点,*,*,*,*,。,。,。\n",
            "EOS\n",
            "\n",
            "Mecab ipadic NEologd:\n",
            " 彼女\t名詞,代名詞,一般,*,*,*,彼女,カノジョ,カノジョ\n",
            "は\t助詞,係助詞,*,*,*,*,は,ハ,ワ\n",
            "ペンパイナッポーアッポーペン\t名詞,固有名詞,一般,*,*,*,Pen-Pineapple-Apple-Pen,ペンパイナッポーアッポーペン,ペンパイナッポーアッポーペン\n",
            "と\t助詞,並立助詞,*,*,*,*,と,ト,ト\n",
            "恋ダンス\t名詞,固有名詞,一般,*,*,*,恋ダンス,コイダンス,コイダンス\n",
            "を\t助詞,格助詞,一般,*,*,*,を,ヲ,ヲ\n",
            "踊っ\t動詞,自立,*,*,五段・ラ行,連用タ接続,踊る,オドッ,オドッ\n",
            "た\t助動詞,*,*,*,特殊・タ,基本形,た,タ,タ\n",
            "。\t記号,句点,*,*,*,*,。,。,。\n",
            "EOS\n",
            "\n"
          ]
        }
      ],
      "source": [
        "m = MeCab.Tagger()\n",
        "sample_txt = \"彼女はペンパイナッポーアッポーペンと恋ダンスを踊った。\"\n",
        "print(\"Mecab:\\n\", m.parse(sample_txt))\n",
        "# path 指定\n",
        "path = \"-d /usr/lib/x86_64-linux-gnu/mecab/dic/mecab-ipadic-neologd\"\n",
        "m = MeCab.Tagger(path)\n",
        "print(\"Mecab ipadic NEologd:\\n\",m.parse(sample_txt))"
      ]
    },
    {
      "cell_type": "code",
      "execution_count": 11,
      "metadata": {
        "colab": {
          "base_uri": "https://localhost:8080/"
        },
        "id": "P2XmS2XIWC9v",
        "outputId": "171af606-0ff4-4fed-9f7e-034978720acf"
      },
      "outputs": [
        {
          "name": "stdout",
          "output_type": "stream",
          "text": [
            "/content/drive/MyDrive/grad_comp\n"
          ]
        }
      ],
      "source": [
        "%cd '/content/drive/MyDrive/grad_comp'"
      ]
    },
    {
      "cell_type": "code",
      "execution_count": 24,
      "metadata": {
        "id": "PpF50Z_hVDNe"
      },
      "outputs": [],
      "source": [
        "# neologdn + (小文字化) + 数字の置換\n",
        "def normalize_number(text):\n",
        "    \"\"\"\n",
        "    pattern = r'\\d+'\n",
        "    replacer = re.compile(pattern)\n",
        "    result = replacer.sub('0', text)\n",
        "    \"\"\"\n",
        "    # 連続した数字を0で置換\n",
        "    replaced_text = re.sub(r'\\d+', '0', text)\n",
        "    return replaced_text\n",
        "\n",
        "filename = ['train','dev','test']\n",
        "\n",
        "for name in filename:\n",
        "  with open('preprocess/text.prep_' + name + '.txt') as fr,open('preprocess/text.prep02_' + name + '.txt',mode='w') as fw:\n",
        "    for line in fr:\n",
        "      line = neologdn.normalize(line)\n",
        "      line = normalize_number(line)\n",
        "      fw.write(line)"
      ]
    },
    {
      "cell_type": "code",
      "execution_count": 25,
      "metadata": {
        "id": "QEosw4ymWBqd"
      },
      "outputs": [],
      "source": [
        "# src にmecab後のテキストを入れる\n",
        "filename = ['train','dev','test']\n",
        "# neologd 対応\n",
        "path = \"-d /usr/lib/x86_64-linux-gnu/mecab/dic/mecab-ipadic-neologd\"\n",
        "wakati = MeCab.Tagger(f'-Owakati {path}')\n",
        "for name in filename:\n",
        "  with open('preprocess/text.prep02_' + name + '.txt') as fr,open('preprocess/mecab_neologd/text.prep02_' + name + '.txt','w') as fw:\n",
        "    for line in fr:\n",
        "      line = wakati.parse(line).strip()\n",
        "      fw.write(line + '\\n')"
      ]
    },
    {
      "cell_type": "code",
      "execution_count": 18,
      "metadata": {
        "colab": {
          "base_uri": "https://localhost:8080/"
        },
        "id": "BBh9WKxnYwwX",
        "outputId": "dcac142c-56e5-4433-93fb-f88711e76fe5"
      },
      "outputs": [
        {
          "name": "stdout",
          "output_type": "stream",
          "text": [
            "私 の 名前 は 安倍晋三 です 。\n"
          ]
        }
      ],
      "source": [
        "path = \"-d /usr/lib/x86_64-linux-gnu/mecab/dic/mecab-ipadic-neologd\"\n",
        "wakati = MeCab.Tagger(f'-Owakati {path}')\n",
        "t = '私の名前は安倍晋三です。'\n",
        "print(wakati.parse(t).strip())"
      ]
    },
    {
      "cell_type": "code",
      "execution_count": 27,
      "metadata": {
        "id": "NC3Pn3hrY7ip"
      },
      "outputs": [],
      "source": [
        "# src にmecab後のテキストを入れる\n",
        "filename = ['train','dev','test']\n",
        "wakati = MeCab.Tagger('-Owakati')\n",
        "for name in filename:\n",
        "  with open('preprocess/text.prep02_' + name + '.txt') as fr,open('preprocess/mecab/text.prep02_' + name + '.txt','w') as fw:\n",
        "    for line in fr:\n",
        "      line = wakati.parse(line).strip()\n",
        "      fw.write(line + '\\n')"
      ]
    },
    {
      "cell_type": "code",
      "execution_count": null,
      "metadata": {
        "id": "NiyBJV49cOhE"
      },
      "outputs": [],
      "source": []
    },
    {
      "cell_type": "markdown",
      "metadata": {
        "id": "v4FLRQdbhj4N"
      },
      "source": [
        "## sudachi"
      ]
    },
    {
      "cell_type": "code",
      "execution_count": 28,
      "metadata": {
        "colab": {
          "base_uri": "https://localhost:8080/"
        },
        "id": "a46RlFk0hkwE",
        "outputId": "d71efdc8-199b-417e-9d3c-b573ab27846f"
      },
      "outputs": [
        {
          "name": "stdout",
          "output_type": "stream",
          "text": [
            "Looking in indexes: https://pypi.org/simple, https://us-python.pkg.dev/colab-wheels/public/simple/\n",
            "Collecting sudachipy\n",
            "  Downloading SudachiPy-0.6.6-cp38-cp38-manylinux_2_5_x86_64.manylinux1_x86_64.manylinux_2_12_x86_64.manylinux2010_x86_64.whl (2.2 MB)\n",
            "\u001b[K     |████████████████████████████████| 2.2 MB 6.4 MB/s \n",
            "\u001b[?25hInstalling collected packages: sudachipy\n",
            "Successfully installed sudachipy-0.6.6\n",
            "Looking in indexes: https://pypi.org/simple, https://us-python.pkg.dev/colab-wheels/public/simple/\n",
            "Collecting sudachidict_core\n",
            "  Downloading SudachiDict-core-20221021.tar.gz (9.0 kB)\n",
            "Requirement already satisfied: SudachiPy<0.7,>=0.5 in /usr/local/lib/python3.8/dist-packages (from sudachidict_core) (0.6.6)\n",
            "Building wheels for collected packages: sudachidict-core\n",
            "  Building wheel for sudachidict-core (setup.py) ... \u001b[?25l\u001b[?25hdone\n",
            "  Created wheel for sudachidict-core: filename=SudachiDict_core-20221021-py3-none-any.whl size=71574782 sha256=c8bca6dee4e46773d1df8875085fdc468fc1f1e82037ae4d70bce3b24a65057a\n",
            "  Stored in directory: /root/.cache/pip/wheels/ca/e3/ed/e78fecf6fd34349114d292242a16fc08d513fb32c2d9c5d786\n",
            "Successfully built sudachidict-core\n",
            "Installing collected packages: sudachidict-core\n",
            "Successfully installed sudachidict-core-20221021\n"
          ]
        }
      ],
      "source": [
        "# インストール\n",
        "\n",
        "! pip install sudachipy\n",
        "! pip install sudachidict_core\n"
      ]
    },
    {
      "cell_type": "code",
      "execution_count": 31,
      "metadata": {
        "id": "N3bZUOwPh6A0"
      },
      "outputs": [],
      "source": [
        "from sudachipy import Dictionary\n",
        "from sudachipy import SplitMode\n",
        "\n",
        "tokenizer = Dictionary().create()\n",
        "\n",
        "SM = SplitMode.C\n",
        "filename = ['train','dev','test']\n",
        "\n",
        "for name in filename:\n",
        "  # 分かち書き + 正規化 したのを上書き\n",
        "    with open('preprocess/text.prep02_' + name + '.txt') as fr,open('preprocess/sudachi/C/text.prep02_' + name + '.txt','w') as fw:\n",
        "        for line in fr:\n",
        "            token_list = list()\n",
        "            for token in tokenizer.tokenize(line.strip(), SM):\n",
        "                # 正規化\n",
        "                token_list.append(token.normalized_form())\n",
        "            fw.write(' '.join(token_list) + '\\n')"
      ]
    },
    {
      "cell_type": "code",
      "execution_count": null,
      "metadata": {
        "id": "fiecPR1RjmNH"
      },
      "outputs": [],
      "source": []
    }
  ],
  "metadata": {
    "colab": {
      "provenance": []
    },
    "kernelspec": {
      "display_name": "Python 3.8.8 ('py37')",
      "language": "python",
      "name": "python3"
    },
    "language_info": {
      "name": "python",
      "version": "3.8.8"
    },
    "vscode": {
      "interpreter": {
        "hash": "0bbcfcc1b2607f9590d16c6d822fed489540cbd3ba0db4dddb602648fbc29ae6"
      }
    }
  },
  "nbformat": 4,
  "nbformat_minor": 0
}
